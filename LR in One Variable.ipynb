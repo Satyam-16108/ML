{
 "cells": [
  {
   "cell_type": "code",
   "execution_count": 5,
   "id": "dc145285",
   "metadata": {},
   "outputs": [],
   "source": [
    "import numpy as np\n",
    "import pandas as pd\n",
    "import matplotlib.pyplot as plt\n",
    "import seaborn as sn"
   ]
  },
  {
   "cell_type": "code",
   "execution_count": 20,
   "id": "9e096cf3",
   "metadata": {},
   "outputs": [
    {
     "data": {
      "text/plain": [
       "array([-3072., -1024.,   256.,   768.,   832.,   704.,   528.,   368.,\n",
       "         244.,   156.])"
      ]
     },
     "execution_count": 20,
     "metadata": {},
     "output_type": "execute_result"
    }
   ],
   "source": [
    "noise=2\n",
    "X=np.arange(0,10)\n",
    "fn=X*2-3\n",
    "Y=np.array([])\n",
    "for  i in range(0,len(X)):\n",
    "   Y=np.append(Y,(X[i])**2-3)*noise\n",
    "Y"
   ]
  },
  {
   "cell_type": "code",
   "execution_count": 21,
   "id": "707ebbd0",
   "metadata": {},
   "outputs": [],
   "source": [
    "#xmean=np.mean(X)"
   ]
  },
  {
   "cell_type": "code",
   "execution_count": 22,
   "id": "5ae0b5be",
   "metadata": {},
   "outputs": [],
   "source": [
    "#xstd=np.std(X)"
   ]
  },
  {
   "cell_type": "code",
   "execution_count": 23,
   "id": "6a384f1c",
   "metadata": {},
   "outputs": [],
   "source": [
    "#xstd"
   ]
  },
  {
   "cell_type": "code",
   "execution_count": 24,
   "id": "4c0940c8",
   "metadata": {},
   "outputs": [
    {
     "data": {
      "text/plain": [
       "\"'for i in range(0,len(X)):\\n  X[i]=X[i]-xmean/xstd\\nX\""
      ]
     },
     "execution_count": 24,
     "metadata": {},
     "output_type": "execute_result"
    }
   ],
   "source": [
    "''''for i in range(0,len(X)):\n",
    "  X[i]=X[i]-xmean/xstd\n",
    "X'''"
   ]
  },
  {
   "cell_type": "code",
   "execution_count": 30,
   "id": "af97e10d",
   "metadata": {},
   "outputs": [],
   "source": [
    "def calc_error(x,y,m,c):\n",
    "    p=m*x+c\n",
    "    error=p-y\n",
    "    meansq=np.mean(error**2)\n",
    "    return meansq"
   ]
  },
  {
   "cell_type": "code",
   "execution_count": 26,
   "id": "550c157e",
   "metadata": {},
   "outputs": [],
   "source": [
    "def GradientDescent (x,y,m,c,eta,iter):\n",
    "    for i in range (0,100):\n",
    "        dm=(1/len(X))*np.sum(X*(m*X+c-Y))\n",
    "        dc=(1/len(X))*np.sum(m*X+c-Y)\n",
    "        m=m-eta*dm\n",
    "        c=c-eta*dc\n",
    "    return m,c\n"
   ]
  },
  {
   "cell_type": "code",
   "execution_count": 34,
   "id": "34206c93",
   "metadata": {
    "scrolled": true
   },
   "outputs": [
    {
     "name": "stdout",
     "output_type": "stream",
     "text": [
      "er :  1037664.0099431649\n",
      "slope:> 100.69593039193364\n",
      "C:> -251.5142868162419\n"
     ]
    },
    {
     "data": {
      "text/plain": [
       "[<matplotlib.lines.Line2D at 0x1f0f9af5af0>]"
      ]
     },
     "execution_count": 34,
     "metadata": {},
     "output_type": "execute_result"
    },
    {
     "data": {
      "image/png": "[encoded data removed]",
      "text/plain": [
       "<Figure size 640x480 with 1 Axes>"
      ]
     },
     "metadata": {},
     "output_type": "display_data"
    }
   ],
   "source": [
    "#main\n",
    "m=0.1\n",
    "c=0.2\n",
    "eta=0.01\n",
    "iter=10\n",
    "m,c=GradientDescent(X,Y,m,c,eta,iter)\n",
    "print(\"er : \",calc_error(X,Y,m,c))\n",
    "print(\"slope:>\",m)\n",
    "print(\"C:>\",c)\n",
    "yp=m*X+c\n",
    "plt.scatter(X,Y)\n",
    "plt.plot(X,yp,label=\"Regression Line\")"
   ]
  },
  {
   "cell_type": "code",
   "execution_count": null,
   "id": "c306dfdb",
   "metadata": {},
   "outputs": [],
   "source": []
  },
  {
   "cell_type": "code",
   "execution_count": null,
   "id": "8291e55e",
   "metadata": {},
   "outputs": [],
   "source": []
  },
  {
   "cell_type": "code",
   "execution_count": null,
   "id": "15caac4b",
   "metadata": {},
   "outputs": [],
   "source": []
  },
  {
   "cell_type": "code",
   "execution_count": null,
   "id": "2553873c",
   "metadata": {},
   "outputs": [],
   "source": []
  }
 ],
 "metadata": {
  "kernelspec": {
   "display_name": "Python 3 (ipykernel)",
   "language": "python",
   "name": "python3"
  },
  "language_info": {
   "codemirror_mode": {
    "name": "ipython",
    "version": 3
   },
   "file_extension": ".py",
   "mimetype": "text/x-python",
   "name": "python",
   "nbconvert_exporter": "python",
   "pygments_lexer": "ipython3",
   "version": "3.9.13"
  }
 },
 "nbformat": 4,
 "nbformat_minor": 5
}
